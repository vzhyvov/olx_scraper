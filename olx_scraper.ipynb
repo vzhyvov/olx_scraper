{
 "cells": [
  {
   "cell_type": "code",
   "execution_count": null,
   "metadata": {},
   "outputs": [],
   "source": [
    "import requests\n",
    "from bs4 import BeautifulSoup\n",
    "import csv\n",
    "\n",
    "main_url = 'https://www.olx.ua/moda-i-stil/odezhda/'\n",
    "n_pages=5\n",
    "\n",
    "def write_csv(result):\n",
    "\twith open('olx-moda.csv', 'w') as f:\n",
    "\t\twriter = csv.writer(f)\n",
    "\t\twriter.writerow(['sep=,'])\n",
    "\t\tfor item in result:\n",
    "\t\t\twriter.writerow( (item['name'],\n",
    "\t\t\t\t\t\t  \t  item['price'],\n",
    "\t\t\t\t\t\t  \t  item['address'],\n",
    "\t\t\t\t\t\t  \t  item['url']\n",
    "\t\t\t\t\t\t  \t ))\n",
    "\n",
    "def clean(text):\n",
    "\treturn text.replace('\\t','').replace('\\n','').strip()\n",
    "\n",
    "\n",
    "def get_page_data(page_url):\n",
    "\tr = requests.get(page_url)\n",
    "\tsoup = BeautifulSoup(r.content)\n",
    "\ttable = soup.find('table', {'id':'offers_table'})\n",
    "\trows = table.find_all('tr' , {'class':'wrap'})\n",
    "\tresult = []\n",
    "\tfor row in rows:\n",
    "\t\tname = clean(row.find('h3').text)\n",
    "\t\turl = row.find('h3').find('a').get('href')\n",
    "\t\tprice = clean(row.find('p', {'class':'price'}).text)\n",
    "\t\tbottom = row.find('td', {'valign':'bottom'})\n",
    "\t\taddress= clean(bottom.find('small' , {'class':'breadcrumb x-normal'}).text)\n",
    "\t\titem = {'name':name,'price':price, 'address':address, 'url': url}\n",
    "\t\tresult.append(item)\n",
    "\treturn result\n",
    "\n",
    "def main(main_url):\n",
    "\tr = requests.get(main_url)\n",
    "\tsoup = BeautifulSoup(r.content)\n",
    "\t# max_page = int(clean(soup.find('div', {'class':'pager rel clr'}).find_all('span', {'class':'item fleft'})[-1].text))\n",
    "\tresult = []\n",
    "\tfor i in range(1,1+n_pages):\n",
    "\t\tprint('Parsing page # ' + str(i) + ' of ' + str(5))\n",
    "\t\tpage_url = main_url + '?page=' + str(i)\n",
    "\t\tresult+=get_page_data(page_url)\n",
    "\twrite_csv(result)\n",
    "\t\n",
    "\n",
    "   \n",
    "main(main_url) "
   ]
  }
 ],
 "metadata": {
  "kernelspec": {
   "display_name": "Python 3",
   "language": "python",
   "name": "python3"
  },
  "language_info": {
   "codemirror_mode": {
    "name": "ipython",
    "version": 3
   },
   "file_extension": ".py",
   "mimetype": "text/x-python",
   "name": "python",
   "nbconvert_exporter": "python",
   "pygments_lexer": "ipython3",
   "version": "3.7.3"
  }
 },
 "nbformat": 4,
 "nbformat_minor": 2
}
